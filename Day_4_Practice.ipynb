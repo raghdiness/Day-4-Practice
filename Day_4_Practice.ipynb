{
  "nbformat": 4,
  "nbformat_minor": 0,
  "metadata": {
    "colab": {
      "provenance": [],
      "authorship_tag": "ABX9TyN5QY96RN1+7g/YXESQwSoN",
      "include_colab_link": true
    },
    "kernelspec": {
      "name": "python3",
      "display_name": "Python 3"
    },
    "language_info": {
      "name": "python"
    }
  },
  "cells": [
    {
      "cell_type": "markdown",
      "metadata": {
        "id": "view-in-github",
        "colab_type": "text"
      },
      "source": [
        "<a href=\"https://colab.research.google.com/github/raghdiness/Day-4-Practice/blob/main/Day_4_Practice.ipynb\" target=\"_parent\"><img src=\"https://colab.research.google.com/assets/colab-badge.svg\" alt=\"Open In Colab\"/></a>"
      ]
    },
    {
      "cell_type": "code",
      "execution_count": 1,
      "metadata": {
        "id": "462UUvMsOqW0"
      },
      "outputs": [],
      "source": [
        "students = [\n",
        "    {\"name\": \"Ali\", \"math\": 78, \"science\": 82},\n",
        "    {\"name\": \"Maya\", \"math\": 65, \"science\": 91},\n",
        "    {\"name\": \"Omar\", \"math\": 90, \"science\": 88},\n",
        "    {\"name\": \"Sara\", \"math\": 55, \"science\": 60},\n",
        "    {\"name\": \"Noor\", \"math\": 85, \"science\": 79}\n",
        "]\n"
      ]
    },
    {
      "cell_type": "code",
      "source": [],
      "metadata": {
        "id": "3gmxV5k2PaVl"
      },
      "execution_count": null,
      "outputs": []
    }
  ]
}