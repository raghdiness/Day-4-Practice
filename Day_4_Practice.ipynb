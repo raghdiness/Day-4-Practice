{
  "nbformat": 4,
  "nbformat_minor": 0,
  "metadata": {
    "colab": {
      "provenance": [],
      "authorship_tag": "ABX9TyMx3oTMSv1lfLFkxYR4UYpl",
      "include_colab_link": true
    },
    "kernelspec": {
      "name": "python3",
      "display_name": "Python 3"
    },
    "language_info": {
      "name": "python"
    }
  },
  "cells": [
    {
      "cell_type": "markdown",
      "metadata": {
        "id": "view-in-github",
        "colab_type": "text"
      },
      "source": [
        "<a href=\"https://colab.research.google.com/github/raghdiness/Day-4-Practice/blob/main/Day_4_Practice.ipynb\" target=\"_parent\"><img src=\"https://colab.research.google.com/assets/colab-badge.svg\" alt=\"Open In Colab\"/></a>"
      ]
    },
    {
      "cell_type": "code",
      "execution_count": 2,
      "metadata": {
        "id": "462UUvMsOqW0"
      },
      "outputs": [],
      "source": [
        "students = [\n",
        "    {\"name\": \"Ali\", \"math\": 78, \"science\": 82},\n",
        "    {\"name\": \"Maya\", \"math\": 65, \"science\": 91},\n",
        "    {\"name\": \"Omar\", \"math\": 90, \"science\": 88},\n",
        "    {\"name\": \"Sara\", \"math\": 55, \"science\": 60},\n",
        "    {\"name\": \"Noor\", \"math\": 85, \"science\": 79}\n",
        "]\n"
      ]
    },
    {
      "cell_type": "code",
      "source": [
        "\n",
        "# Day 4 – Python Foundations + Data Handling\n",
        "\n",
        "# --- Part 1 – Python Skill Drill ---\n",
        "# TODO 1: Create a list of dictionaries for 5 fictional students with keys: name, math, science\n",
        "\n",
        "students = [\n",
        "    # Example: {\"name\": \"Ali\", \"math\": 78, \"science\": 82}\n",
        "]\n",
        "\n",
        "# TODO 2: Print only the names of students with math > 80\n",
        "# for ... in ...:\n",
        "#     if ...:\n",
        "#         print(...)\n",
        "\n",
        "# TODO 3: Add a new key \"average\" with the mean of math and science for each student\n",
        "# for ... in ...:\n",
        "#     ...\n",
        "\n",
        "# TODO 4: Count how many have \"average\" above 80\n",
        "# high_count = 0\n",
        "# for ... in ...:\n",
        "#     if ...:\n",
        "#         high_count += 1\n",
        "# print(\"Number of high performers:\", high_count)\n",
        "\n",
        "# TODO 5 (Stretch goal): Turn the above into a function high_performers()\n",
        "\n",
        "# --- Part 2 – Mini Data Task in Pandas ---\n",
        "import pandas as pd\n",
        "\n",
        "# TODO 1: Create a DataFrame from the same student data\n",
        "# df = pd.DataFrame(...)\n",
        "\n",
        "# TODO 2: Select students with math > 80\n",
        "# high_math = df.loc[ ... ]\n",
        "\n",
        "# TODO 3: Add \"average\" column\n",
        "# df[\"average\"] = ...\n",
        "\n",
        "# TODO 4: Count how many have average > 80\n",
        "# high_avg_count = ...\n",
        "# print(\"High performers (Pandas):\", high_avg_count)\n",
        "\n",
        "# --- Part 3 – Kaggle Titanic Filtering ---\n",
        "# Instructions:\n",
        "# 1. Download 'train.csv' from the Titanic competition on Kaggle\n",
        "# 2. Upload it to Colab and read it using pandas\n",
        "# 3. Filter passengers who are female and had a fare above 50\n",
        "\n",
        "# Example:\n",
        "# titanic = pd.read_csv(\"train.csv\")\n",
        "# filtered = titanic.loc[(titanic[\"Sex\"] == \"female\") & (titanic[\"Fare\"] > 50)]\n",
        "# print(filtered.head())\n"
      ],
      "metadata": {
        "id": "3gmxV5k2PaVl"
      },
      "execution_count": null,
      "outputs": []
    },
    {
      "cell_type": "code",
      "source": [
        "for student in students:\n",
        "    if student [\"math\"]>80:\n",
        "         print(student[\"name\"])"
      ],
      "metadata": {
        "id": "YRTY2qsZRP5h",
        "colab": {
          "base_uri": "https://localhost:8080/"
        },
        "outputId": "6697525c-5d0b-4315-d399-7eb7c4ebd6e2"
      },
      "execution_count": 3,
      "outputs": [
        {
          "output_type": "stream",
          "name": "stdout",
          "text": [
            "Omar\n",
            "Noor\n"
          ]
        }
      ]
    },
    {
      "cell_type": "code",
      "source": [
        "# TODO 3: Add a new key \"average\" with the mean of math and science for each student\n",
        "for student in students:\n",
        "    avg = (student[\"math\"] + student[\"science\"]) / 2\n",
        "\n",
        "    # Add a new key-value pair to the dictionary\n",
        "    student[\"average\"] = avg\n",
        "\n",
        "    print(student[\"average\"])"
      ],
      "metadata": {
        "id": "7CsEJo8L4TmF",
        "colab": {
          "base_uri": "https://localhost:8080/"
        },
        "outputId": "30eec03a-068d-4fcb-efd7-e71b7172b1a3"
      },
      "execution_count": 5,
      "outputs": [
        {
          "output_type": "stream",
          "name": "stdout",
          "text": [
            "80.0\n",
            "78.0\n",
            "89.0\n",
            "57.5\n",
            "82.0\n"
          ]
        }
      ]
    },
    {
      "cell_type": "code",
      "source": [],
      "metadata": {
        "id": "tu5VEgZYbOVn"
      },
      "execution_count": null,
      "outputs": []
    }
  ]
}